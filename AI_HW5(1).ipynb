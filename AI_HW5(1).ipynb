{
  "cells": [
    {
      "cell_type": "code",
      "execution_count": 1,
      "metadata": {
        "id": "FN4ymHYJ9fWf"
      },
      "outputs": [],
      "source": [
        "import tensorflow as tf\n",
        "import keras"
      ]
    },
    {
      "cell_type": "code",
      "execution_count": 2,
      "metadata": {
        "id": "jjWAkkJq968v"
      },
      "outputs": [],
      "source": [
        "!pip install -q kaggle"
      ]
    },
    {
      "cell_type": "code",
      "execution_count": 3,
      "metadata": {
        "colab": {
          "base_uri": "https://localhost:8080/",
          "height": 111
        },
        "id": "wFKKN6XQ-B13",
        "outputId": "759456a0-01d2-4b71-b889-7f407433b88d"
      },
      "outputs": [
        {
          "output_type": "display_data",
          "data": {
            "text/plain": [
              "<IPython.core.display.HTML object>"
            ],
            "text/html": [
              "\n",
              "     <input type=\"file\" id=\"files-a3cf95ce-275b-4beb-918d-457fd99319a0\" name=\"files[]\" multiple disabled\n",
              "        style=\"border:none\" />\n",
              "     <output id=\"result-a3cf95ce-275b-4beb-918d-457fd99319a0\">\n",
              "      Upload widget is only available when the cell has been executed in the\n",
              "      current browser session. Please rerun this cell to enable.\n",
              "      </output>\n",
              "      <script>// Copyright 2017 Google LLC\n",
              "//\n",
              "// Licensed under the Apache License, Version 2.0 (the \"License\");\n",
              "// you may not use this file except in compliance with the License.\n",
              "// You may obtain a copy of the License at\n",
              "//\n",
              "//      http://www.apache.org/licenses/LICENSE-2.0\n",
              "//\n",
              "// Unless required by applicable law or agreed to in writing, software\n",
              "// distributed under the License is distributed on an \"AS IS\" BASIS,\n",
              "// WITHOUT WARRANTIES OR CONDITIONS OF ANY KIND, either express or implied.\n",
              "// See the License for the specific language governing permissions and\n",
              "// limitations under the License.\n",
              "\n",
              "/**\n",
              " * @fileoverview Helpers for google.colab Python module.\n",
              " */\n",
              "(function(scope) {\n",
              "function span(text, styleAttributes = {}) {\n",
              "  const element = document.createElement('span');\n",
              "  element.textContent = text;\n",
              "  for (const key of Object.keys(styleAttributes)) {\n",
              "    element.style[key] = styleAttributes[key];\n",
              "  }\n",
              "  return element;\n",
              "}\n",
              "\n",
              "// Max number of bytes which will be uploaded at a time.\n",
              "const MAX_PAYLOAD_SIZE = 100 * 1024;\n",
              "\n",
              "function _uploadFiles(inputId, outputId) {\n",
              "  const steps = uploadFilesStep(inputId, outputId);\n",
              "  const outputElement = document.getElementById(outputId);\n",
              "  // Cache steps on the outputElement to make it available for the next call\n",
              "  // to uploadFilesContinue from Python.\n",
              "  outputElement.steps = steps;\n",
              "\n",
              "  return _uploadFilesContinue(outputId);\n",
              "}\n",
              "\n",
              "// This is roughly an async generator (not supported in the browser yet),\n",
              "// where there are multiple asynchronous steps and the Python side is going\n",
              "// to poll for completion of each step.\n",
              "// This uses a Promise to block the python side on completion of each step,\n",
              "// then passes the result of the previous step as the input to the next step.\n",
              "function _uploadFilesContinue(outputId) {\n",
              "  const outputElement = document.getElementById(outputId);\n",
              "  const steps = outputElement.steps;\n",
              "\n",
              "  const next = steps.next(outputElement.lastPromiseValue);\n",
              "  return Promise.resolve(next.value.promise).then((value) => {\n",
              "    // Cache the last promise value to make it available to the next\n",
              "    // step of the generator.\n",
              "    outputElement.lastPromiseValue = value;\n",
              "    return next.value.response;\n",
              "  });\n",
              "}\n",
              "\n",
              "/**\n",
              " * Generator function which is called between each async step of the upload\n",
              " * process.\n",
              " * @param {string} inputId Element ID of the input file picker element.\n",
              " * @param {string} outputId Element ID of the output display.\n",
              " * @return {!Iterable<!Object>} Iterable of next steps.\n",
              " */\n",
              "function* uploadFilesStep(inputId, outputId) {\n",
              "  const inputElement = document.getElementById(inputId);\n",
              "  inputElement.disabled = false;\n",
              "\n",
              "  const outputElement = document.getElementById(outputId);\n",
              "  outputElement.innerHTML = '';\n",
              "\n",
              "  const pickedPromise = new Promise((resolve) => {\n",
              "    inputElement.addEventListener('change', (e) => {\n",
              "      resolve(e.target.files);\n",
              "    });\n",
              "  });\n",
              "\n",
              "  const cancel = document.createElement('button');\n",
              "  inputElement.parentElement.appendChild(cancel);\n",
              "  cancel.textContent = 'Cancel upload';\n",
              "  const cancelPromise = new Promise((resolve) => {\n",
              "    cancel.onclick = () => {\n",
              "      resolve(null);\n",
              "    };\n",
              "  });\n",
              "\n",
              "  // Wait for the user to pick the files.\n",
              "  const files = yield {\n",
              "    promise: Promise.race([pickedPromise, cancelPromise]),\n",
              "    response: {\n",
              "      action: 'starting',\n",
              "    }\n",
              "  };\n",
              "\n",
              "  cancel.remove();\n",
              "\n",
              "  // Disable the input element since further picks are not allowed.\n",
              "  inputElement.disabled = true;\n",
              "\n",
              "  if (!files) {\n",
              "    return {\n",
              "      response: {\n",
              "        action: 'complete',\n",
              "      }\n",
              "    };\n",
              "  }\n",
              "\n",
              "  for (const file of files) {\n",
              "    const li = document.createElement('li');\n",
              "    li.append(span(file.name, {fontWeight: 'bold'}));\n",
              "    li.append(span(\n",
              "        `(${file.type || 'n/a'}) - ${file.size} bytes, ` +\n",
              "        `last modified: ${\n",
              "            file.lastModifiedDate ? file.lastModifiedDate.toLocaleDateString() :\n",
              "                                    'n/a'} - `));\n",
              "    const percent = span('0% done');\n",
              "    li.appendChild(percent);\n",
              "\n",
              "    outputElement.appendChild(li);\n",
              "\n",
              "    const fileDataPromise = new Promise((resolve) => {\n",
              "      const reader = new FileReader();\n",
              "      reader.onload = (e) => {\n",
              "        resolve(e.target.result);\n",
              "      };\n",
              "      reader.readAsArrayBuffer(file);\n",
              "    });\n",
              "    // Wait for the data to be ready.\n",
              "    let fileData = yield {\n",
              "      promise: fileDataPromise,\n",
              "      response: {\n",
              "        action: 'continue',\n",
              "      }\n",
              "    };\n",
              "\n",
              "    // Use a chunked sending to avoid message size limits. See b/62115660.\n",
              "    let position = 0;\n",
              "    do {\n",
              "      const length = Math.min(fileData.byteLength - position, MAX_PAYLOAD_SIZE);\n",
              "      const chunk = new Uint8Array(fileData, position, length);\n",
              "      position += length;\n",
              "\n",
              "      const base64 = btoa(String.fromCharCode.apply(null, chunk));\n",
              "      yield {\n",
              "        response: {\n",
              "          action: 'append',\n",
              "          file: file.name,\n",
              "          data: base64,\n",
              "        },\n",
              "      };\n",
              "\n",
              "      let percentDone = fileData.byteLength === 0 ?\n",
              "          100 :\n",
              "          Math.round((position / fileData.byteLength) * 100);\n",
              "      percent.textContent = `${percentDone}% done`;\n",
              "\n",
              "    } while (position < fileData.byteLength);\n",
              "  }\n",
              "\n",
              "  // All done.\n",
              "  yield {\n",
              "    response: {\n",
              "      action: 'complete',\n",
              "    }\n",
              "  };\n",
              "}\n",
              "\n",
              "scope.google = scope.google || {};\n",
              "scope.google.colab = scope.google.colab || {};\n",
              "scope.google.colab._files = {\n",
              "  _uploadFiles,\n",
              "  _uploadFilesContinue,\n",
              "};\n",
              "})(self);\n",
              "</script> "
            ]
          },
          "metadata": {}
        },
        {
          "output_type": "stream",
          "name": "stdout",
          "text": [
            "Saving kaggle.json to kaggle.json\n"
          ]
        },
        {
          "output_type": "execute_result",
          "data": {
            "text/plain": [
              "{'kaggle.json': b'{\"username\":\"elizabethcutting\",\"key\":\"91e392d5897071ec2f0be851d7a46f0c\"}'}"
            ]
          },
          "metadata": {},
          "execution_count": 3
        }
      ],
      "source": [
        "from google.colab import files\n",
        "files.upload()"
      ]
    },
    {
      "cell_type": "code",
      "execution_count": 4,
      "metadata": {
        "id": "e0QEQP8C-G5N"
      },
      "outputs": [],
      "source": [
        "! mkdir ~/.kaggle\n",
        "\n",
        "! cp kaggle.json ~/.kaggle/"
      ]
    },
    {
      "cell_type": "code",
      "execution_count": 5,
      "metadata": {
        "id": "rcLwjD5a-KI8"
      },
      "outputs": [],
      "source": [
        "! chmod 600 ~/.kaggle/kaggle.json"
      ]
    },
    {
      "cell_type": "code",
      "execution_count": 6,
      "metadata": {
        "id": "Bsz4BINx-N-N",
        "colab": {
          "base_uri": "https://localhost:8080/"
        },
        "outputId": "33f4fbe7-4e36-4103-8f6f-466d31f8b76c"
      },
      "outputs": [
        {
          "output_type": "stream",
          "name": "stdout",
          "text": [
            "ref                                                           title                                            size  lastUpdated          downloadCount  voteCount  usabilityRating  \n",
            "------------------------------------------------------------  ----------------------------------------------  -----  -------------------  -------------  ---------  ---------------  \n",
            "rabieelkharoua/students-performance-dataset                   📚 Students Performance Dataset 📚                 66KB  2024-06-12 23:09:20          25126        511  1.0              \n",
            "waqi786/cars-dataset-2010-2020                                Cars Dataset (2010-2020)                         96KB  2024-07-23 05:49:46           1478         29  1.0              \n",
            "marius2303/nissan-all-models-price-prediction-dataset         Nissan All Models Price Prediction Dataset      811KB  2024-07-27 11:50:10            799         24  1.0              \n",
            "ihelon/coffee-sales                                           Coffee Sales                                     13KB  2024-08-01 07:55:34           8430        138  1.0              \n",
            "harinkl/import-and-export-of-india-2009-2025                  import and export of india 2009-2025            364KB  2024-07-20 04:37:38           1426         25  1.0              \n",
            "abhayayare/flower-dataset                                     Flower Dataset                                   40KB  2024-07-25 17:58:23            593         22  1.0              \n",
            "nelgiriyewithana/most-streamed-spotify-songs-2024             Most Streamed Spotify Songs 2024                496KB  2024-06-15 18:50:51          18341        369  1.0              \n",
            "waqi786/titanic-dataset                                       Titanic Dataset                                  41KB  2024-07-25 08:23:03            628         22  1.0              \n",
            "waqi786/global-air-quality-dataset                            Global Air Quality Dataset 🌍🌫️                  258KB  2024-07-28 10:35:09           1162         28  1.0              \n",
            "waqi786/top-intelligent-people-in-the-world                   Top Intelligent People in the World 🌍🧠           79KB  2024-07-27 11:36:16            647         27  1.0              \n",
            "waqi786/student-performance-dataset                           📚 Student Performance Dataset 📚                   6KB  2024-07-26 04:24:34            950         32  1.0              \n",
            "akinduhiman/trending-youtube-videos-2019-to-2020              Trending YouTube Videos 2019 to 2020             26MB  2024-07-24 19:21:40            685         24  1.0              \n",
            "ganjerlawrence/mobile-phone-price-prediction-cleaned-dataset  Mobile Phone Price Prediction cleaned Dataset     5KB  2024-06-30 11:56:32           1539         24  1.0              \n",
            "waqi786/e-commerce-clickstream-and-transaction-dataset        E-commerce Clickstream and Transaction Dataset    1MB  2024-07-24 10:17:49            958         31  1.0              \n",
            "waqi786/movies-dataset-1980-2020                              Movies Dataset (1980-2020)                      645KB  2024-07-22 13:49:26           1565         36  1.0              \n",
            "waqi786/mobile-sales-dataset                                  Mobile Sales Dataset 📱                           58KB  2024-07-26 11:03:16           1216         29  1.0              \n",
            "waqi786/1000-richest-people-in-the-world                      1000 Richest People in the World                  8KB  2024-07-28 05:39:38           1051         29  1.0              \n",
            "waqi786/medical-costs                                         Medical Costs                                    95KB  2024-07-24 04:25:53           1218         32  1.0              \n",
            "preethamgouda/financial-risk                                  Financial_Risk                                  693KB  2024-07-23 07:20:58           1202         28  1.0              \n",
            "dataanalyst001/world-marriage-dataset                         World Marriage Dataset                            1MB  2024-07-21 06:09:24            996         24  1.0              \n"
          ]
        }
      ],
      "source": [
        "! kaggle datasets list"
      ]
    },
    {
      "cell_type": "code",
      "execution_count": 6,
      "metadata": {
        "colab": {
          "base_uri": "https://localhost:8080/"
        },
        "id": "QRBLuuvu-QUK",
        "outputId": "bb233090-867d-469f-b020-116283bd02fd"
      },
      "outputs": [
        {
          "output_type": "stream",
          "name": "stdout",
          "text": [
            "Downloading histopathologic-cancer-detection.zip to /content\n",
            "100% 6.30G/6.31G [01:13<00:00, 107MB/s]\n",
            "100% 6.31G/6.31G [01:13<00:00, 92.3MB/s]\n"
          ]
        }
      ],
      "source": [
        "!kaggle competitions download -c histopathologic-cancer-detection"
      ]
    },
    {
      "cell_type": "code",
      "execution_count": 7,
      "metadata": {
        "id": "-q_n0I5t-i0B"
      },
      "outputs": [],
      "source": [
        "from zipfile import ZipFile\n",
        "\n",
        "with ZipFile(\"/content/histopathologic-cancer-detection.zip\", 'r') as zObject:\n",
        "    zObject.extractall()"
      ]
    },
    {
      "cell_type": "code",
      "execution_count": 8,
      "metadata": {
        "id": "7y1SzjDHBp83"
      },
      "outputs": [],
      "source": [
        "#this is one way to store the data. While it works, it ends up being slower and messier than a df, so I decided to go with the df object\n",
        "\n",
        "import os\n",
        "test_images = []\n",
        "for img in os.listdir('test'):\n",
        "    image = keras.utils.load_img(\"test/\" + img)\n",
        "    input_arr = keras.utils.img_to_array(image)\n",
        "    # input_arr = np.array([input_arr])\n",
        "    test_images.append(input_arr)\n",
        "    break"
      ]
    },
    {
      "cell_type": "code",
      "execution_count": 9,
      "metadata": {
        "colab": {
          "base_uri": "https://localhost:8080/"
        },
        "id": "pDhy26lnCc9x",
        "outputId": "4975469f-359a-4da5-f285-2325ad5efe56"
      },
      "outputs": [
        {
          "output_type": "execute_result",
          "data": {
            "text/plain": [
              "(220025, 2)"
            ]
          },
          "metadata": {},
          "execution_count": 9
        }
      ],
      "source": [
        "import pandas as pd\n",
        "train_labels = pd.read_csv('/content/train_labels.csv')\n",
        "# train_labels.head()\n",
        "train_labels.shape"
      ]
    },
    {
      "cell_type": "code",
      "execution_count": 15,
      "metadata": {
        "colab": {
          "base_uri": "https://localhost:8080/"
        },
        "id": "cgPdUu0AHgb5",
        "outputId": "0a44ee35-4a93-447c-b654-9f4701532634"
      },
      "outputs": [
        {
          "output_type": "stream",
          "name": "stdout",
          "text": [
            "id       0\n",
            "label    0\n",
            "dtype: int64\n"
          ]
        }
      ],
      "source": [
        "# We need to check if there are any data points that are not given a label so we can get rid of them\n",
        "print(train_labels.isnull().sum())\n",
        "# We found none"
      ]
    },
    {
      "cell_type": "code",
      "execution_count": 10,
      "metadata": {
        "colab": {
          "base_uri": "https://localhost:8080/"
        },
        "id": "u_OCx8NiH4EL",
        "outputId": "d7d0da14-4638-40f3-b417-876438a10118"
      },
      "outputs": [
        {
          "output_type": "stream",
          "name": "stdout",
          "text": [
            "label\n",
            "0    130908\n",
            "1     89117\n",
            "Name: count, dtype: int64\n",
            "label\n",
            "0    60000\n",
            "1    60000\n",
            "Name: count, dtype: int64\n"
          ]
        }
      ],
      "source": [
        "# Ultimately, my computer just can't deal with 200k images, so I have to cut it down.\n",
        "# Testing with 100k\n",
        "# But, this means I can make sure I choose the images I want, so I can get a perfect half and half distribution\n",
        "# This is pretty cool because the dataset isn't even:\n",
        "\n",
        "x = train_labels['label'].value_counts()\n",
        "print(x)\n",
        "\n",
        "# Therefore, I will mask each dataset and pick 10,000 of each to use, then grab those images and turn them into a dataset to run through a CNN\n",
        "sample_size = 25000\n",
        "\n",
        "mask0 = train_labels['label']==0\n",
        "mask1 = train_labels['label']==1\n",
        "\n",
        "train0 = train_labels[mask0]\n",
        "train1 = train_labels[mask1]\n",
        "\n",
        "train = pd.concat([train0.sample(sample_size),train1.sample(sample_size)], axis=0)\n",
        "train = train.reset_index(drop = True)\n",
        "train = train.sample(frac=1).reset_index(drop=True) #shuffle\n",
        "\n",
        "#see the new values we will use\n",
        "x = train['label'].value_counts()\n",
        "print(x)\n"
      ]
    },
    {
      "cell_type": "code",
      "execution_count": 11,
      "metadata": {
        "id": "a89xCkqwPfA0"
      },
      "outputs": [],
      "source": [
        "# I will store the converted images in these folders\n",
        "import os\n",
        "\n",
        "os.mkdir(\"train_png\")\n",
        "os.mkdir(\"train_png/0\")\n",
        "os.mkdir(\"train_png/1\")"
      ]
    },
    {
      "cell_type": "code",
      "execution_count": null,
      "metadata": {
        "id": "PSqu5WZ6UHW7"
      },
      "outputs": [],
      "source": [
        "# #Just used to fix a previous error since I can't delete files manually in colab. Useful for future mistakes...\n",
        "# for x in os.listdir(\"/content/train_png\"):\n",
        "#   os.remove(\"/content/train_png/\"+x)\n",
        "# # # os.rmdir('/content/train_png/0')\n",
        "# os.rmdir('/content/train_png')"
      ]
    },
    {
      "cell_type": "code",
      "execution_count": 12,
      "metadata": {
        "id": "60LiD3nBPoMy"
      },
      "outputs": [],
      "source": [
        "from PIL import Image\n",
        "\n",
        "# use the PIL library to convert the image. I need to convert so I can make a tf dataset object\n",
        "# I want to save it into two separate classes so that the labels can be interpreted by the tf method used below\n",
        "for img_name in train['id']:\n",
        "    mask = train['id']==img_name\n",
        "    if train[mask]['label'].values[0] == 0:\n",
        "        with Image.open(\"/content/train/\" + img_name + \".tif\") as tif:\n",
        "            png = tif.convert(\"RGB\")\n",
        "            png.save(\"/content/train_png/0/\" + img_name + \".png\")\n",
        "    else:\n",
        "        with Image.open(\"/content/train/\" + img_name + \".tif\") as tif:\n",
        "            png = tif.convert(\"RGB\")\n",
        "            png.save(\"/content/train_png/1/\" + img_name + \".png\")\n"
      ]
    },
    {
      "cell_type": "code",
      "execution_count": 13,
      "metadata": {
        "id": "jzUJRpFTdbrP"
      },
      "outputs": [],
      "source": [
        "# do the same thing for the test dataset, since it will be used later\n",
        "from PIL import Image\n",
        "\n",
        "os.mkdir(\"test_png\")\n",
        "\n",
        "for img_name in os.listdir('/content/test'):\n",
        "    with Image.open(\"/content/test/\" + img_name) as tif:\n",
        "        png = tif.convert(\"RGB\")\n",
        "        png.save(\"/content/test_png/\" + img_name + \".png\")"
      ]
    },
    {
      "cell_type": "code",
      "execution_count": 14,
      "metadata": {
        "colab": {
          "base_uri": "https://localhost:8080/"
        },
        "id": "BBk7A8AKBQiT",
        "outputId": "94edb2f2-d150-4351-95ae-56eb36790e2a"
      },
      "outputs": [
        {
          "output_type": "stream",
          "name": "stdout",
          "text": [
            "Colab only includes TensorFlow 2.x; %tensorflow_version has no effect.\n"
          ]
        }
      ],
      "source": [
        "#follow basic procedure mentioned in the demo nb\n",
        "%tensorflow_version 2.x\n",
        "import tensorflow as tf\n",
        "import keras\n",
        "import numpy as np\n",
        "\n"
      ]
    },
    {
      "cell_type": "code",
      "execution_count": 24,
      "metadata": {
        "colab": {
          "base_uri": "https://localhost:8080/"
        },
        "id": "b4TCskfGf-Ou",
        "outputId": "29fc6fc2-01fc-40fd-9f3b-5a5177a49b6a",
        "collapsed": true
      },
      "outputs": [
        {
          "output_type": "stream",
          "name": "stdout",
          "text": [
            "9d2d43446902ee8b542336209d6dd5d7f9f807be.png\n",
            "254978742d70439190950018a1bd54259fc33363.png\n"
          ]
        }
      ],
      "source": [
        "# check that the directory is prepared!\n",
        "print(os.listdir(\"/content/train_png/0\")[0])\n",
        "print(os.listdir(\"/content/train_png/1\")[0])"
      ]
    },
    {
      "cell_type": "code",
      "execution_count": 16,
      "metadata": {
        "colab": {
          "base_uri": "https://localhost:8080/"
        },
        "id": "8OzXRnBgAeWh",
        "outputId": "a0df82a4-bcf2-4540-859b-962686e3b98b"
      },
      "outputs": [
        {
          "output_type": "stream",
          "name": "stdout",
          "text": [
            "Found 120000 files belonging to 2 classes.\n",
            "Using 98400 files for training.\n",
            "Found 120000 files belonging to 2 classes.\n",
            "Using 21600 files for validation.\n"
          ]
        }
      ],
      "source": [
        "#decided to keep batch size a bit larger than default. Mainly, I want to not lose out on important time here\n",
        "train_dataset = tf.keras.utils.image_dataset_from_directory('/content/train_png',label_mode='binary',class_names=['0','1'],image_size=(96,96),color_mode='rgb',seed=123,validation_split=0.18,subset='training',batch_size=64)\n",
        "\n",
        "val_dataset = tf.keras.utils.image_dataset_from_directory('/content/train_png',label_mode='binary',class_names=['0','1'],image_size=(96,96),color_mode='rgb',seed=123,validation_split=0.18,subset='validation',batch_size=64)"
      ]
    },
    {
      "cell_type": "code",
      "execution_count": 17,
      "metadata": {
        "colab": {
          "base_uri": "https://localhost:8080/",
          "height": 504
        },
        "id": "5MBoYEEChDuF",
        "outputId": "4a041fbc-9d69-4896-cedd-ea557de51351"
      },
      "outputs": [
        {
          "output_type": "stream",
          "name": "stderr",
          "text": [
            "/usr/local/lib/python3.10/dist-packages/keras/src/layers/preprocessing/tf_data_layer.py:19: UserWarning: Do not pass an `input_shape`/`input_dim` argument to a layer. When using Sequential models, prefer using an `Input(shape)` object as the first layer in the model instead.\n",
            "  super().__init__(**kwargs)\n"
          ]
        },
        {
          "output_type": "display_data",
          "data": {
            "text/plain": [
              "\u001b[1mModel: \"sequential\"\u001b[0m\n"
            ],
            "text/html": [
              "<pre style=\"white-space:pre;overflow-x:auto;line-height:normal;font-family:Menlo,'DejaVu Sans Mono',consolas,'Courier New',monospace\"><span style=\"font-weight: bold\">Model: \"sequential\"</span>\n",
              "</pre>\n"
            ]
          },
          "metadata": {}
        },
        {
          "output_type": "display_data",
          "data": {
            "text/plain": [
              "┏━━━━━━━━━━━━━━━━━━━━━━━━━━━━━━━━━━━━━━┳━━━━━━━━━━━━━━━━━━━━━━━━━━━━━┳━━━━━━━━━━━━━━━━━┓\n",
              "┃\u001b[1m \u001b[0m\u001b[1mLayer (type)                        \u001b[0m\u001b[1m \u001b[0m┃\u001b[1m \u001b[0m\u001b[1mOutput Shape               \u001b[0m\u001b[1m \u001b[0m┃\u001b[1m \u001b[0m\u001b[1m        Param #\u001b[0m\u001b[1m \u001b[0m┃\n",
              "┡━━━━━━━━━━━━━━━━━━━━━━━━━━━━━━━━━━━━━━╇━━━━━━━━━━━━━━━━━━━━━━━━━━━━━╇━━━━━━━━━━━━━━━━━┩\n",
              "│ rescaling (\u001b[38;5;33mRescaling\u001b[0m)                │ (\u001b[38;5;45mNone\u001b[0m, \u001b[38;5;34m96\u001b[0m, \u001b[38;5;34m96\u001b[0m, \u001b[38;5;34m3\u001b[0m)           │               \u001b[38;5;34m0\u001b[0m │\n",
              "├──────────────────────────────────────┼─────────────────────────────┼─────────────────┤\n",
              "│ conv2d (\u001b[38;5;33mConv2D\u001b[0m)                      │ (\u001b[38;5;45mNone\u001b[0m, \u001b[38;5;34m94\u001b[0m, \u001b[38;5;34m94\u001b[0m, \u001b[38;5;34m32\u001b[0m)          │             \u001b[38;5;34m896\u001b[0m │\n",
              "├──────────────────────────────────────┼─────────────────────────────┼─────────────────┤\n",
              "│ max_pooling2d (\u001b[38;5;33mMaxPooling2D\u001b[0m)         │ (\u001b[38;5;45mNone\u001b[0m, \u001b[38;5;34m47\u001b[0m, \u001b[38;5;34m47\u001b[0m, \u001b[38;5;34m32\u001b[0m)          │               \u001b[38;5;34m0\u001b[0m │\n",
              "├──────────────────────────────────────┼─────────────────────────────┼─────────────────┤\n",
              "│ conv2d_1 (\u001b[38;5;33mConv2D\u001b[0m)                    │ (\u001b[38;5;45mNone\u001b[0m, \u001b[38;5;34m45\u001b[0m, \u001b[38;5;34m45\u001b[0m, \u001b[38;5;34m64\u001b[0m)          │          \u001b[38;5;34m18,496\u001b[0m │\n",
              "├──────────────────────────────────────┼─────────────────────────────┼─────────────────┤\n",
              "│ max_pooling2d_1 (\u001b[38;5;33mMaxPooling2D\u001b[0m)       │ (\u001b[38;5;45mNone\u001b[0m, \u001b[38;5;34m22\u001b[0m, \u001b[38;5;34m22\u001b[0m, \u001b[38;5;34m64\u001b[0m)          │               \u001b[38;5;34m0\u001b[0m │\n",
              "├──────────────────────────────────────┼─────────────────────────────┼─────────────────┤\n",
              "│ conv2d_2 (\u001b[38;5;33mConv2D\u001b[0m)                    │ (\u001b[38;5;45mNone\u001b[0m, \u001b[38;5;34m20\u001b[0m, \u001b[38;5;34m20\u001b[0m, \u001b[38;5;34m128\u001b[0m)         │          \u001b[38;5;34m73,856\u001b[0m │\n",
              "├──────────────────────────────────────┼─────────────────────────────┼─────────────────┤\n",
              "│ flatten (\u001b[38;5;33mFlatten\u001b[0m)                    │ (\u001b[38;5;45mNone\u001b[0m, \u001b[38;5;34m51200\u001b[0m)               │               \u001b[38;5;34m0\u001b[0m │\n",
              "├──────────────────────────────────────┼─────────────────────────────┼─────────────────┤\n",
              "│ dense (\u001b[38;5;33mDense\u001b[0m)                        │ (\u001b[38;5;45mNone\u001b[0m, \u001b[38;5;34m64\u001b[0m)                  │       \u001b[38;5;34m3,276,864\u001b[0m │\n",
              "├──────────────────────────────────────┼─────────────────────────────┼─────────────────┤\n",
              "│ dense_1 (\u001b[38;5;33mDense\u001b[0m)                      │ (\u001b[38;5;45mNone\u001b[0m, \u001b[38;5;34m32\u001b[0m)                  │           \u001b[38;5;34m2,080\u001b[0m │\n",
              "├──────────────────────────────────────┼─────────────────────────────┼─────────────────┤\n",
              "│ dense_2 (\u001b[38;5;33mDense\u001b[0m)                      │ (\u001b[38;5;45mNone\u001b[0m, \u001b[38;5;34m1\u001b[0m)                   │              \u001b[38;5;34m33\u001b[0m │\n",
              "└──────────────────────────────────────┴─────────────────────────────┴─────────────────┘\n"
            ],
            "text/html": [
              "<pre style=\"white-space:pre;overflow-x:auto;line-height:normal;font-family:Menlo,'DejaVu Sans Mono',consolas,'Courier New',monospace\">┏━━━━━━━━━━━━━━━━━━━━━━━━━━━━━━━━━━━━━━┳━━━━━━━━━━━━━━━━━━━━━━━━━━━━━┳━━━━━━━━━━━━━━━━━┓\n",
              "┃<span style=\"font-weight: bold\"> Layer (type)                         </span>┃<span style=\"font-weight: bold\"> Output Shape                </span>┃<span style=\"font-weight: bold\">         Param # </span>┃\n",
              "┡━━━━━━━━━━━━━━━━━━━━━━━━━━━━━━━━━━━━━━╇━━━━━━━━━━━━━━━━━━━━━━━━━━━━━╇━━━━━━━━━━━━━━━━━┩\n",
              "│ rescaling (<span style=\"color: #0087ff; text-decoration-color: #0087ff\">Rescaling</span>)                │ (<span style=\"color: #00d7ff; text-decoration-color: #00d7ff\">None</span>, <span style=\"color: #00af00; text-decoration-color: #00af00\">96</span>, <span style=\"color: #00af00; text-decoration-color: #00af00\">96</span>, <span style=\"color: #00af00; text-decoration-color: #00af00\">3</span>)           │               <span style=\"color: #00af00; text-decoration-color: #00af00\">0</span> │\n",
              "├──────────────────────────────────────┼─────────────────────────────┼─────────────────┤\n",
              "│ conv2d (<span style=\"color: #0087ff; text-decoration-color: #0087ff\">Conv2D</span>)                      │ (<span style=\"color: #00d7ff; text-decoration-color: #00d7ff\">None</span>, <span style=\"color: #00af00; text-decoration-color: #00af00\">94</span>, <span style=\"color: #00af00; text-decoration-color: #00af00\">94</span>, <span style=\"color: #00af00; text-decoration-color: #00af00\">32</span>)          │             <span style=\"color: #00af00; text-decoration-color: #00af00\">896</span> │\n",
              "├──────────────────────────────────────┼─────────────────────────────┼─────────────────┤\n",
              "│ max_pooling2d (<span style=\"color: #0087ff; text-decoration-color: #0087ff\">MaxPooling2D</span>)         │ (<span style=\"color: #00d7ff; text-decoration-color: #00d7ff\">None</span>, <span style=\"color: #00af00; text-decoration-color: #00af00\">47</span>, <span style=\"color: #00af00; text-decoration-color: #00af00\">47</span>, <span style=\"color: #00af00; text-decoration-color: #00af00\">32</span>)          │               <span style=\"color: #00af00; text-decoration-color: #00af00\">0</span> │\n",
              "├──────────────────────────────────────┼─────────────────────────────┼─────────────────┤\n",
              "│ conv2d_1 (<span style=\"color: #0087ff; text-decoration-color: #0087ff\">Conv2D</span>)                    │ (<span style=\"color: #00d7ff; text-decoration-color: #00d7ff\">None</span>, <span style=\"color: #00af00; text-decoration-color: #00af00\">45</span>, <span style=\"color: #00af00; text-decoration-color: #00af00\">45</span>, <span style=\"color: #00af00; text-decoration-color: #00af00\">64</span>)          │          <span style=\"color: #00af00; text-decoration-color: #00af00\">18,496</span> │\n",
              "├──────────────────────────────────────┼─────────────────────────────┼─────────────────┤\n",
              "│ max_pooling2d_1 (<span style=\"color: #0087ff; text-decoration-color: #0087ff\">MaxPooling2D</span>)       │ (<span style=\"color: #00d7ff; text-decoration-color: #00d7ff\">None</span>, <span style=\"color: #00af00; text-decoration-color: #00af00\">22</span>, <span style=\"color: #00af00; text-decoration-color: #00af00\">22</span>, <span style=\"color: #00af00; text-decoration-color: #00af00\">64</span>)          │               <span style=\"color: #00af00; text-decoration-color: #00af00\">0</span> │\n",
              "├──────────────────────────────────────┼─────────────────────────────┼─────────────────┤\n",
              "│ conv2d_2 (<span style=\"color: #0087ff; text-decoration-color: #0087ff\">Conv2D</span>)                    │ (<span style=\"color: #00d7ff; text-decoration-color: #00d7ff\">None</span>, <span style=\"color: #00af00; text-decoration-color: #00af00\">20</span>, <span style=\"color: #00af00; text-decoration-color: #00af00\">20</span>, <span style=\"color: #00af00; text-decoration-color: #00af00\">128</span>)         │          <span style=\"color: #00af00; text-decoration-color: #00af00\">73,856</span> │\n",
              "├──────────────────────────────────────┼─────────────────────────────┼─────────────────┤\n",
              "│ flatten (<span style=\"color: #0087ff; text-decoration-color: #0087ff\">Flatten</span>)                    │ (<span style=\"color: #00d7ff; text-decoration-color: #00d7ff\">None</span>, <span style=\"color: #00af00; text-decoration-color: #00af00\">51200</span>)               │               <span style=\"color: #00af00; text-decoration-color: #00af00\">0</span> │\n",
              "├──────────────────────────────────────┼─────────────────────────────┼─────────────────┤\n",
              "│ dense (<span style=\"color: #0087ff; text-decoration-color: #0087ff\">Dense</span>)                        │ (<span style=\"color: #00d7ff; text-decoration-color: #00d7ff\">None</span>, <span style=\"color: #00af00; text-decoration-color: #00af00\">64</span>)                  │       <span style=\"color: #00af00; text-decoration-color: #00af00\">3,276,864</span> │\n",
              "├──────────────────────────────────────┼─────────────────────────────┼─────────────────┤\n",
              "│ dense_1 (<span style=\"color: #0087ff; text-decoration-color: #0087ff\">Dense</span>)                      │ (<span style=\"color: #00d7ff; text-decoration-color: #00d7ff\">None</span>, <span style=\"color: #00af00; text-decoration-color: #00af00\">32</span>)                  │           <span style=\"color: #00af00; text-decoration-color: #00af00\">2,080</span> │\n",
              "├──────────────────────────────────────┼─────────────────────────────┼─────────────────┤\n",
              "│ dense_2 (<span style=\"color: #0087ff; text-decoration-color: #0087ff\">Dense</span>)                      │ (<span style=\"color: #00d7ff; text-decoration-color: #00d7ff\">None</span>, <span style=\"color: #00af00; text-decoration-color: #00af00\">1</span>)                   │              <span style=\"color: #00af00; text-decoration-color: #00af00\">33</span> │\n",
              "└──────────────────────────────────────┴─────────────────────────────┴─────────────────┘\n",
              "</pre>\n"
            ]
          },
          "metadata": {}
        },
        {
          "output_type": "display_data",
          "data": {
            "text/plain": [
              "\u001b[1m Total params: \u001b[0m\u001b[38;5;34m3,372,225\u001b[0m (12.86 MB)\n"
            ],
            "text/html": [
              "<pre style=\"white-space:pre;overflow-x:auto;line-height:normal;font-family:Menlo,'DejaVu Sans Mono',consolas,'Courier New',monospace\"><span style=\"font-weight: bold\"> Total params: </span><span style=\"color: #00af00; text-decoration-color: #00af00\">3,372,225</span> (12.86 MB)\n",
              "</pre>\n"
            ]
          },
          "metadata": {}
        },
        {
          "output_type": "display_data",
          "data": {
            "text/plain": [
              "\u001b[1m Trainable params: \u001b[0m\u001b[38;5;34m3,372,225\u001b[0m (12.86 MB)\n"
            ],
            "text/html": [
              "<pre style=\"white-space:pre;overflow-x:auto;line-height:normal;font-family:Menlo,'DejaVu Sans Mono',consolas,'Courier New',monospace\"><span style=\"font-weight: bold\"> Trainable params: </span><span style=\"color: #00af00; text-decoration-color: #00af00\">3,372,225</span> (12.86 MB)\n",
              "</pre>\n"
            ]
          },
          "metadata": {}
        },
        {
          "output_type": "display_data",
          "data": {
            "text/plain": [
              "\u001b[1m Non-trainable params: \u001b[0m\u001b[38;5;34m0\u001b[0m (0.00 B)\n"
            ],
            "text/html": [
              "<pre style=\"white-space:pre;overflow-x:auto;line-height:normal;font-family:Menlo,'DejaVu Sans Mono',consolas,'Courier New',monospace\"><span style=\"font-weight: bold\"> Non-trainable params: </span><span style=\"color: #00af00; text-decoration-color: #00af00\">0</span> (0.00 B)\n",
              "</pre>\n"
            ]
          },
          "metadata": {}
        }
      ],
      "source": [
        "from tensorflow.keras import layers, models\n",
        "\n",
        "batch_size = 64\n",
        "pool_size = (2,2)\n",
        "kernel_size = (3,3)\n",
        "\n",
        "model = tf.keras.Sequential()\n",
        "model.add(layers.Rescaling(1./255, input_shape=(96,96,3)))\n",
        "model.add(layers.Conv2D(32, kernel_size, activation='relu'))\n",
        "model.add(layers.MaxPooling2D(pool_size))\n",
        "model.add(layers.Conv2D(64, kernel_size, activation='relu'))\n",
        "model.add(layers.MaxPooling2D(pool_size))\n",
        "model.add(layers.Conv2D(128, kernel_size, activation='relu'))\n",
        "model.add(layers.Flatten())\n",
        "# model.add(layers.Dense(128, activation='relu'))\n",
        "model.add(layers.Dense(64, activation='relu'))\n",
        "model.add(layers.Dense(32, activation='relu'))\n",
        "model.add(layers.Dense(1, activation='sigmoid'))\n",
        "model.summary()"
      ]
    },
    {
      "cell_type": "code",
      "source": [],
      "metadata": {
        "id": "OIwM-8oSKPCf"
      },
      "execution_count": null,
      "outputs": []
    },
    {
      "cell_type": "code",
      "execution_count": 18,
      "metadata": {
        "id": "Xwjbh-x8jbZL"
      },
      "outputs": [],
      "source": [
        "from keras.losses import BinaryCrossentropy\n",
        "from keras.metrics import Accuracy, Recall\n",
        "from keras.optimizers import Adam, Adamax, Lion\n",
        "\n",
        "# lion_optimizer = Lion()\n",
        "\n",
        "model.compile(loss=tf.keras.losses.BinaryCrossentropy(),optimizer=\"adam\",metrics = ['accuracy', 'BinaryCrossentropy'])"
      ]
    },
    {
      "cell_type": "code",
      "execution_count": 19,
      "metadata": {
        "colab": {
          "base_uri": "https://localhost:8080/"
        },
        "id": "94OzEK6gn_7p",
        "outputId": "c94fca11-6655-46cb-e6cb-479db604e66c"
      },
      "outputs": [
        {
          "output_type": "stream",
          "name": "stdout",
          "text": [
            "Epoch 1/5\n",
            "\u001b[1m2050/2050\u001b[0m \u001b[32m━━━━━━━━━━━━━━━━━━━━\u001b[0m\u001b[37m\u001b[0m \u001b[1m2333s\u001b[0m 1s/step - BinaryCrossentropy: 0.4939 - accuracy: 0.7641 - loss: 0.4939 - val_BinaryCrossentropy: 0.4220 - val_accuracy: 0.8043 - val_loss: 0.4220\n",
            "Epoch 2/5\n",
            "\u001b[1m2050/2050\u001b[0m \u001b[32m━━━━━━━━━━━━━━━━━━━━\u001b[0m\u001b[37m\u001b[0m \u001b[1m2363s\u001b[0m 1s/step - BinaryCrossentropy: 0.4044 - accuracy: 0.8198 - loss: 0.4044 - val_BinaryCrossentropy: 0.3769 - val_accuracy: 0.8340 - val_loss: 0.3769\n",
            "Epoch 3/5\n",
            "\u001b[1m2050/2050\u001b[0m \u001b[32m━━━━━━━━━━━━━━━━━━━━\u001b[0m\u001b[37m\u001b[0m \u001b[1m2361s\u001b[0m 1s/step - BinaryCrossentropy: 0.3549 - accuracy: 0.8448 - loss: 0.3549 - val_BinaryCrossentropy: 0.3502 - val_accuracy: 0.8478 - val_loss: 0.3502\n",
            "Epoch 4/5\n",
            "\u001b[1m2050/2050\u001b[0m \u001b[32m━━━━━━━━━━━━━━━━━━━━\u001b[0m\u001b[37m\u001b[0m \u001b[1m2351s\u001b[0m 1s/step - BinaryCrossentropy: 0.3035 - accuracy: 0.8717 - loss: 0.3035 - val_BinaryCrossentropy: 0.3468 - val_accuracy: 0.8581 - val_loss: 0.3468\n",
            "Epoch 5/5\n",
            "\u001b[1m2050/2050\u001b[0m \u001b[32m━━━━━━━━━━━━━━━━━━━━\u001b[0m\u001b[37m\u001b[0m \u001b[1m2389s\u001b[0m 1s/step - BinaryCrossentropy: 0.2580 - accuracy: 0.8942 - loss: 0.2580 - val_BinaryCrossentropy: 0.3649 - val_accuracy: 0.8607 - val_loss: 0.3649\n"
          ]
        }
      ],
      "source": [
        "history = model.fit(train_dataset, epochs=5, validation_data=val_dataset)"
      ]
    },
    {
      "cell_type": "code",
      "execution_count": 20,
      "metadata": {
        "id": "Oy1AwV1tA0nu",
        "colab": {
          "base_uri": "https://localhost:8080/"
        },
        "outputId": "1c499cbe-11bf-40dd-870f-0aae6ac1fe7b"
      },
      "outputs": [
        {
          "output_type": "stream",
          "name": "stdout",
          "text": [
            "Found 57458 files.\n"
          ]
        }
      ],
      "source": [
        "test_dataset = tf.keras.utils.image_dataset_from_directory('/content/test_png',\n",
        "                                                            label_mode=None,\n",
        "                                                            image_size=(96,96),\n",
        "                                                            shuffle=False,\n",
        "                                                            batch_size=1)"
      ]
    },
    {
      "cell_type": "code",
      "execution_count": 21,
      "metadata": {
        "id": "_WuDM3llAsJt",
        "colab": {
          "base_uri": "https://localhost:8080/"
        },
        "outputId": "38311762-cf91-4f20-c3c3-bb099cc3724b"
      },
      "outputs": [
        {
          "output_type": "stream",
          "name": "stdout",
          "text": [
            "\u001b[1m57458/57458\u001b[0m \u001b[32m━━━━━━━━━━━━━━━━━━━━\u001b[0m\u001b[37m\u001b[0m \u001b[1m656s\u001b[0m 11ms/step\n"
          ]
        }
      ],
      "source": [
        "predictions = model.predict(test_dataset)\n",
        "\n"
      ]
    },
    {
      "cell_type": "code",
      "execution_count": 22,
      "metadata": {
        "id": "n5-rkGS4BSey"
      },
      "outputs": [],
      "source": [
        "test = os.listdir(\"/content/test_png\")\n",
        "all_pred = pd.DataFrame(columns=['id', 'label'])\n",
        "test=sorted(test)\n",
        "all_pred['id'] = [img_id.split('.')[0] for img_id in test]\n",
        "all_pred['label'] = np.round(predictions.flatten()).astype('int')\n",
        "\n",
        "\n",
        "import csv\n",
        "l = []\n",
        "with open('/content/sample_submission.csv', 'r') as f:\n",
        "    reader = csv.reader(f)\n",
        "    flag = True\n",
        "    for row in reader:\n",
        "        if flag:\n",
        "            flag = False\n",
        "            continue\n",
        "        else:\n",
        "            l.append(row[0])\n",
        "\n",
        "    submission = all_pred[all_pred['id'].isin(l)]\n",
        "    submission.to_csv(\"submission_test.csv\", header=True, index=False)\n"
      ]
    },
    {
      "cell_type": "code",
      "execution_count": null,
      "metadata": {
        "colab": {
          "base_uri": "https://localhost:8080/"
        },
        "id": "PLJMPHksmNG0",
        "outputId": "30646019-7f79-4811-e80e-32da4cd49daa"
      },
      "outputs": [
        {
          "name": "stdout",
          "output_type": "stream",
          "text": [
            "<keras.src.callbacks.History object at 0x7b8b371ba6b0>\n"
          ]
        }
      ],
      "source": [
        "print(history)"
      ]
    },
    {
      "cell_type": "code",
      "execution_count": null,
      "metadata": {
        "id": "YbasNXywovai"
      },
      "outputs": [],
      "source": []
    }
  ],
  "metadata": {
    "colab": {
      "provenance": []
    },
    "kernelspec": {
      "display_name": "Python 3",
      "name": "python3"
    },
    "language_info": {
      "name": "python"
    }
  },
  "nbformat": 4,
  "nbformat_minor": 0
}